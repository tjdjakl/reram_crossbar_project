{
  "nbformat": 4,
  "nbformat_minor": 0,
  "metadata": {
    "colab": {
      "provenance": [],
      "authorship_tag": "ABX9TyM+IJzTaNTDMaP/Q5R3N3B5",
      "include_colab_link": true
    },
    "kernelspec": {
      "name": "python3",
      "display_name": "Python 3"
    },
    "language_info": {
      "name": "python"
    }
  },
  "cells": [
    {
      "cell_type": "markdown",
      "metadata": {
        "id": "view-in-github",
        "colab_type": "text"
      },
      "source": [
        "<a href=\"https://colab.research.google.com/github/barakhoffer/sky130_ngspice_reram/blob/main/Sky130_ReRAM_Ngspice.ipynb\" target=\"_parent\"><img src=\"https://colab.research.google.com/assets/colab-badge.svg\" alt=\"Open In Colab\"/></a>"
      ]
    },
    {
      "cell_type": "code",
      "source": [
        "!apt-get update\n",
        "!apt-get install libtool libxaw7-dev bison flex > install_pre.log"
      ],
      "metadata": {
        "colab": {
          "base_uri": "https://localhost:8080/"
        },
        "id": "p0Bu1IGo8WWF",
        "outputId": "4dc57342-3c73-4570-d34d-8abb876cbb72"
      },
      "execution_count": 1,
      "outputs": [
        {
          "output_type": "stream",
          "name": "stdout",
          "text": [
            "\r0% [Working]\r            \rHit:1 http://archive.ubuntu.com/ubuntu focal InRelease\n",
            "\r0% [Connecting to security.ubuntu.com (185.125.190.36)] [Connected to cloud.r-p\r                                                                               \rGet:2 http://archive.ubuntu.com/ubuntu focal-updates InRelease [114 kB]\n",
            "\r                                                                               \rGet:3 http://archive.ubuntu.com/ubuntu focal-backports InRelease [108 kB]\n",
            "\r                                                                               \rGet:4 https://cloud.r-project.org/bin/linux/ubuntu focal-cran40/ InRelease [3,622 B]\n",
            "Get:5 http://security.ubuntu.com/ubuntu focal-security InRelease [114 kB]\n",
            "Ign:6 https://developer.download.nvidia.com/compute/machine-learning/repos/ubuntu2004/x86_64  InRelease\n",
            "Hit:7 http://ppa.launchpad.net/c2d4u.team/c2d4u4.0+/ubuntu focal InRelease\n",
            "Get:8 https://developer.download.nvidia.com/compute/cuda/repos/ubuntu2004/x86_64  InRelease [1,581 B]\n",
            "Hit:9 https://developer.download.nvidia.com/compute/machine-learning/repos/ubuntu2004/x86_64  Release\n",
            "Hit:10 http://ppa.launchpad.net/cran/libgit2/ubuntu focal InRelease\n",
            "Get:11 http://archive.ubuntu.com/ubuntu focal-updates/main amd64 Packages [3,014 kB]\n",
            "Hit:12 http://ppa.launchpad.net/deadsnakes/ppa/ubuntu focal InRelease\n",
            "Get:13 http://archive.ubuntu.com/ubuntu focal-updates/universe amd64 Packages [1,311 kB]\n",
            "Hit:14 http://ppa.launchpad.net/graphics-drivers/ppa/ubuntu focal InRelease\n",
            "Hit:15 http://ppa.launchpad.net/ubuntugis/ppa/ubuntu focal InRelease\n",
            "Get:16 https://developer.download.nvidia.com/compute/cuda/repos/ubuntu2004/x86_64  Packages [908 kB]\n",
            "Get:18 http://security.ubuntu.com/ubuntu focal-security/main amd64 Packages [2,542 kB]\n",
            "Get:19 http://security.ubuntu.com/ubuntu focal-security/universe amd64 Packages [1,017 kB]\n",
            "Fetched 9,133 kB in 3s (3,618 kB/s)\n",
            "Reading package lists... Done\n"
          ]
        }
      ]
    },
    {
      "cell_type": "code",
      "source": [
        "PDK_HASH = 'fa87f8f4bbcc7255b6f0c0fb506960f531ae2392'\n",
        "PDK_ROOT = '/root/.volare/volare/sky130/versions'\n",
        "PDKPATH = f'{PDK_ROOT}/sky130B'\n",
        "%env PDK_ROOT={PDK_ROOT}\n",
        "%env PDKPATH={PDKPATH}\n",
        "!pip install --upgrade --no-cache-dir volare\n",
        "!volare enable --pdk sky130 {PDK_HASH} > pdk_install.log"
      ],
      "metadata": {
        "colab": {
          "base_uri": "https://localhost:8080/"
        },
        "id": "31L-rFqSgPnB",
        "outputId": "6b3688b8-c1ae-42a4-bbc3-35f8aa57444b"
      },
      "execution_count": 2,
      "outputs": [
        {
          "output_type": "stream",
          "name": "stdout",
          "text": [
            "env: PDK_ROOT=/root/.volare/volare/sky130/versions\n",
            "env: PDKPATH=/root/.volare/volare/sky130/versions/sky130B\n",
            "Looking in indexes: https://pypi.org/simple, https://us-python.pkg.dev/colab-wheels/public/simple/\n",
            "Collecting volare\n",
            "  Downloading volare-0.6.4-py3-none-any.whl (26 kB)\n",
            "Requirement already satisfied: pyyaml<7,>=5 in /usr/local/lib/python3.9/dist-packages (from volare) (6.0)\n",
            "Requirement already satisfied: click<9,>=8.0.0 in /usr/local/lib/python3.9/dist-packages (from volare) (8.1.3)\n",
            "Collecting requests<3,>=2.27.0\n",
            "  Downloading requests-2.28.2-py3-none-any.whl (62 kB)\n",
            "\u001b[2K     \u001b[90m━━━━━━━━━━━━━━━━━━━━━━━━━━━━━━━━━━━━━━━\u001b[0m \u001b[32m62.8/62.8 KB\u001b[0m \u001b[31m229.8 MB/s\u001b[0m eta \u001b[36m0:00:00\u001b[0m\n",
            "\u001b[?25hCollecting pcpp<2,>=1.2\n",
            "  Downloading pcpp-1.30-py2.py3-none-any.whl (91 kB)\n",
            "\u001b[2K     \u001b[90m━━━━━━━━━━━━━━━━━━━━━━━━━━━━━━━━━━━━━━━\u001b[0m \u001b[32m91.1/91.1 KB\u001b[0m \u001b[31m210.3 MB/s\u001b[0m eta \u001b[36m0:00:00\u001b[0m\n",
            "\u001b[?25hCollecting rich<13,>=12\n",
            "  Downloading rich-12.6.0-py3-none-any.whl (237 kB)\n",
            "\u001b[2K     \u001b[90m━━━━━━━━━━━━━━━━━━━━━━━━━━━━━━━━━━━━━\u001b[0m \u001b[32m237.5/237.5 KB\u001b[0m \u001b[31m238.0 MB/s\u001b[0m eta \u001b[36m0:00:00\u001b[0m\n",
            "\u001b[?25hRequirement already satisfied: urllib3<1.27,>=1.21.1 in /usr/local/lib/python3.9/dist-packages (from requests<3,>=2.27.0->volare) (1.26.14)\n",
            "Collecting charset-normalizer<4,>=2\n",
            "  Downloading charset_normalizer-3.1.0-cp39-cp39-manylinux_2_17_x86_64.manylinux2014_x86_64.whl (199 kB)\n",
            "\u001b[2K     \u001b[90m━━━━━━━━━━━━━━━━━━━━━━━━━━━━━━━━━━━━━\u001b[0m \u001b[32m199.2/199.2 KB\u001b[0m \u001b[31m185.0 MB/s\u001b[0m eta \u001b[36m0:00:00\u001b[0m\n",
            "\u001b[?25hRequirement already satisfied: certifi>=2017.4.17 in /usr/local/lib/python3.9/dist-packages (from requests<3,>=2.27.0->volare) (2022.12.7)\n",
            "Requirement already satisfied: idna<4,>=2.5 in /usr/local/lib/python3.9/dist-packages (from requests<3,>=2.27.0->volare) (2.10)\n",
            "Requirement already satisfied: pygments<3.0.0,>=2.6.0 in /usr/local/lib/python3.9/dist-packages (from rich<13,>=12->volare) (2.6.1)\n",
            "Collecting commonmark<0.10.0,>=0.9.0\n",
            "  Downloading commonmark-0.9.1-py2.py3-none-any.whl (51 kB)\n",
            "\u001b[2K     \u001b[90m━━━━━━━━━━━━━━━━━━━━━━━━━━━━━━━━━━━━━━━\u001b[0m \u001b[32m51.1/51.1 KB\u001b[0m \u001b[31m186.0 MB/s\u001b[0m eta \u001b[36m0:00:00\u001b[0m\n",
            "\u001b[?25hInstalling collected packages: pcpp, commonmark, rich, charset-normalizer, requests, volare\n",
            "  Attempting uninstall: requests\n",
            "    Found existing installation: requests 2.25.1\n",
            "    Uninstalling requests-2.25.1:\n",
            "      Successfully uninstalled requests-2.25.1\n",
            "Successfully installed charset-normalizer-3.1.0 commonmark-0.9.1 pcpp-1.30 requests-2.28.2 rich-12.6.0 volare-0.6.4\n"
          ]
        }
      ]
    },
    {
      "cell_type": "code",
      "source": [
        "!git clone git://git.code.sf.net/p/ngspice/ngspice\n",
        "!export PATH=$PATH:/content && cd ngspice && ./compile_linux.sh > ngspice_install.log 2>&1"
      ],
      "metadata": {
        "colab": {
          "base_uri": "https://localhost:8080/"
        },
        "id": "HrxRUXc1bikB",
        "outputId": "2d484b8e-a4e3-492f-f140-2939d4a25149"
      },
      "execution_count": 3,
      "outputs": [
        {
          "output_type": "stream",
          "name": "stdout",
          "text": [
            "Cloning into 'ngspice'...\n",
            "remote: Enumerating objects: 124675, done.\u001b[K\n",
            "remote: Counting objects: 100% (124675/124675), done.\u001b[K\n",
            "remote: Compressing objects: 100% (24022/24022), done.\u001b[K\n",
            "remote: Total 124675 (delta 101684), reused 121608 (delta 99365)\u001b[K\n",
            "Receiving objects: 100% (124675/124675), 40.59 MiB | 2.03 MiB/s, done.\n",
            "Resolving deltas: 100% (101684/101684), done.\n"
          ]
        }
      ]
    },
    {
      "cell_type": "code",
      "source": [
        "%%writefile /root/.spiceinit\n",
        "set num_threads=4\n",
        "set ngbehavior=hsa\n",
        "set ng_nomodcheck"
      ],
      "metadata": {
        "id": "rDbtRI9jBp_f",
        "colab": {
          "base_uri": "https://localhost:8080/"
        },
        "outputId": "5fbb6625-2de5-4d19-ca83-bdddaa693024"
      },
      "execution_count": 4,
      "outputs": [
        {
          "output_type": "stream",
          "name": "stdout",
          "text": [
            "Writing /root/.spiceinit\n"
          ]
        }
      ]
    },
    {
      "cell_type": "code",
      "source": [
        "!git clone https://github.com/barakhoffer/sky130_ngspice_reram"
      ],
      "metadata": {
        "id": "g5obSv9wmwtf",
        "colab": {
          "base_uri": "https://localhost:8080/"
        },
        "outputId": "83adf671-302f-46e5-c501-769acadd8e46"
      },
      "execution_count": 5,
      "outputs": [
        {
          "output_type": "stream",
          "name": "stdout",
          "text": [
            "Cloning into 'sky130_ngspice_reram'...\n",
            "remote: Enumerating objects: 13, done.\u001b[K\n",
            "remote: Counting objects: 100% (13/13), done.\u001b[K\n",
            "remote: Compressing objects: 100% (13/13), done.\u001b[K\n",
            "remote: Total 13 (delta 3), reused 5 (delta 0), pack-reused 0\u001b[K\n",
            "Unpacking objects: 100% (13/13), 7.47 KiB | 2.49 MiB/s, done.\n"
          ]
        }
      ]
    },
    {
      "cell_type": "code",
      "source": [
        "!sky130_ngspice_reram/install.sh"
      ],
      "metadata": {
        "id": "pW7xehVbnKke",
        "colab": {
          "base_uri": "https://localhost:8080/"
        },
        "outputId": "b5228e06-abb8-46cf-8892-4db13ccf4465"
      },
      "execution_count": 6,
      "outputs": [
        {
          "output_type": "stream",
          "name": "stdout",
          "text": [
            "--2023-03-13 16:32:09--  https://openva.fra1.cdn.digitaloceanspaces.com/openvaf_23_2_0_linux_amd64.tar.xz\n",
            "Resolving openva.fra1.cdn.digitaloceanspaces.com (openva.fra1.cdn.digitaloceanspaces.com)... 205.185.216.42, 205.185.216.10\n",
            "Connecting to openva.fra1.cdn.digitaloceanspaces.com (openva.fra1.cdn.digitaloceanspaces.com)|205.185.216.42|:443... connected.\n",
            "HTTP request sent, awaiting response... 200 OK\n",
            "Length: 23753116 (23M) [application/x-xz]\n",
            "Saving to: ‘openvaf_23_2_0_linux_amd64.tar.xz’\n",
            "\n",
            "\r          openvaf_2   0%[                    ]       0  --.-KB/s               \ropenvaf_23_2_0_linu 100%[===================>]  22.65M  --.-KB/s    in 0.05s   \n",
            "\n",
            "2023-03-13 16:32:09 (431 MB/s) - ‘openvaf_23_2_0_linux_amd64.tar.xz’ saved [23753116/23753116]\n",
            "\n",
            "Cloning into 'sky130_fd_pr_reram'...\n",
            "remote: Enumerating objects: 199, done.\u001b[K\n",
            "remote: Counting objects: 100% (63/63), done.\u001b[K\n",
            "remote: Compressing objects: 100% (22/22), done.\u001b[K\n",
            "remote: Total 199 (delta 48), reused 41 (delta 41), pack-reused 136\u001b[K\n",
            "Receiving objects: 100% (199/199), 3.56 MiB | 35.43 MiB/s, done.\n",
            "Resolving deltas: 100% (85/85), done.\n",
            "patching file ngspice/sky130_fd_pr_reram__reram_cell.va\n",
            "\u001b[0m\u001b[1m\u001b[32mFinished\u001b[0m building sky130_fd_pr_reram__reram_cell.va in 0.11s\n"
          ]
        }
      ]
    },
    {
      "cell_type": "code",
      "source": [
        "!pip install spyci"
      ],
      "metadata": {
        "id": "_x3OwAtrh3p4",
        "colab": {
          "base_uri": "https://localhost:8080/"
        },
        "outputId": "de6dfb79-8657-4c40-af84-99d11fb02a38"
      },
      "execution_count": 9,
      "outputs": [
        {
          "output_type": "stream",
          "name": "stdout",
          "text": [
            "Looking in indexes: https://pypi.org/simple, https://us-python.pkg.dev/colab-wheels/public/simple/\n",
            "Collecting spyci\n",
            "  Downloading spyci-1.0.2-py2.py3-none-any.whl (9.0 kB)\n",
            "Requirement already satisfied: numpy in /usr/local/lib/python3.9/dist-packages (from spyci) (1.22.4)\n",
            "Requirement already satisfied: tabulate in /usr/local/lib/python3.9/dist-packages (from spyci) (0.8.10)\n",
            "Requirement already satisfied: matplotlib in /usr/local/lib/python3.9/dist-packages (from spyci) (3.5.3)\n",
            "Requirement already satisfied: kiwisolver>=1.0.1 in /usr/local/lib/python3.9/dist-packages (from matplotlib->spyci) (1.4.4)\n",
            "Requirement already satisfied: packaging>=20.0 in /usr/local/lib/python3.9/dist-packages (from matplotlib->spyci) (23.0)\n",
            "Requirement already satisfied: fonttools>=4.22.0 in /usr/local/lib/python3.9/dist-packages (from matplotlib->spyci) (4.39.0)\n",
            "Requirement already satisfied: pyparsing>=2.2.1 in /usr/local/lib/python3.9/dist-packages (from matplotlib->spyci) (3.0.9)\n",
            "Requirement already satisfied: python-dateutil>=2.7 in /usr/local/lib/python3.9/dist-packages (from matplotlib->spyci) (2.8.2)\n",
            "Requirement already satisfied: pillow>=6.2.0 in /usr/local/lib/python3.9/dist-packages (from matplotlib->spyci) (8.4.0)\n",
            "Requirement already satisfied: cycler>=0.10 in /usr/local/lib/python3.9/dist-packages (from matplotlib->spyci) (0.11.0)\n",
            "Requirement already satisfied: six>=1.5 in /usr/local/lib/python3.9/dist-packages (from python-dateutil>=2.7->matplotlib->spyci) (1.15.0)\n",
            "Installing collected packages: spyci\n",
            "Successfully installed spyci-1.0.2\n"
          ]
        }
      ]
    },
    {
      "cell_type": "code",
      "source": [
        "!ngspice -b -r reram_example.raw $PDK_ROOT/sky130B/libs.tech/ngspice/reram_example.spice"
      ],
      "metadata": {
        "colab": {
          "base_uri": "https://localhost:8080/"
        },
        "id": "i62AzpwSemYN",
        "outputId": "6c7f3ae8-b24d-451f-d069-ab05f7b8cf15"
      },
      "execution_count": 10,
      "outputs": [
        {
          "output_type": "stream",
          "name": "stdout",
          "text": [
            "\n",
            "Note: Compatibility modes selected: hs a\n",
            "\n",
            "\n",
            "Circuit: reram example\n",
            "\n",
            "Doing analysis at TEMP = 27.000000 and TNOM = 27.000000\n",
            "\n",
            "\n",
            "Initial Transient Solution\n",
            "--------------------------\n",
            "\n",
            "Node                                   Voltage\n",
            "----                                   -------\n",
            "te                                           0\n",
            "nfilament                                  3.8\n",
            "v1#branch                                    0\n",
            "\n",
            " Reference value :  1.45245e-06\n",
            "No. of Data Rows : 15030\n",
            "ASCII raw file \"reram_example.raw\"\n",
            "Doing analysis at TEMP = 27.000000 and TNOM = 27.000000\n",
            "\n",
            "No. of Data Columns : 6  \n",
            "\n",
            "Initial Transient Solution\n",
            "--------------------------\n",
            "\n",
            "Node                                   Voltage\n",
            "----                                   -------\n",
            "te                                           0\n",
            "nfilament                                  3.8\n",
            "v1#branch                                    0\n",
            "\n",
            "\n",
            "No. of Data Rows : 15030\n",
            "\n",
            "Total analysis time (seconds) = 2.574\n",
            "\n",
            "Total elapsed time (seconds) = 2.578 \n",
            "\n",
            "Total DRAM available = 12985.547 MB.\n",
            "DRAM currently available = 2156.707 MB.\n",
            "Maximum ngspice program size =  242.543 MB.\n",
            "Current ngspice program size =   12.828 MB.\n",
            "\n",
            "Shared ngspice pages =   10.227 MB.\n",
            "Text (code) pages =    5.379 MB.\n",
            "Stack = 0 bytes.\n",
            "Library pages =   27.039 MB.\n",
            "\n"
          ]
        }
      ]
    },
    {
      "cell_type": "code",
      "source": [
        "from spyci import spyci\n",
        "import matplotlib.pyplot as plt\n",
        "\n",
        "data = spyci.load_raw(\"reram_example.raw\")\n",
        "plt.plot(data['values']['v(te)'].real, -data['values']['i(v1)'].real)\n",
        "plt.xlabel('Voltage [V]')\n",
        "plt.ylabel('Current [A]')\n",
        "plt.title(\"ReRAM I-V Curve\")\n",
        "plt.show()"
      ],
      "metadata": {
        "colab": {
          "base_uri": "https://localhost:8080/",
          "height": 295
        },
        "id": "FKb5S9ljf7Lc",
        "outputId": "0287d85d-474f-46e2-bfd2-36211c890870"
      },
      "execution_count": 11,
      "outputs": [
        {
          "output_type": "display_data",
          "data": {
            "text/plain": [
              "<Figure size 432x288 with 1 Axes>"
            ],
            "image/png": "[encoded data removed]"
          },
          "metadata": {
            "needs_background": "light"
          }
        }
      ]
    }
  ]
}